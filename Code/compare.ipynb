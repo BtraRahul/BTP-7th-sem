{
 "cells": [
  {
   "cell_type": "code",
   "execution_count": 2,
   "metadata": {},
   "outputs": [
    {
     "name": "stderr",
     "output_type": "stream",
     "text": [
      "WARNING:absl:Compiled the loaded model, but the compiled metrics have yet to be built. `model.compile_metrics` will be empty until you train or evaluate the model.\n",
      "WARNING:absl:Compiled the loaded model, but the compiled metrics have yet to be built. `model.compile_metrics` will be empty until you train or evaluate the model.\n"
     ]
    }
   ],
   "source": [
    "import tensorflow as tf\n",
    "import matplotlib.pyplot as plt\n",
    "\n",
    "# Load the ResNet-50 and ResNet-101 models from saved .h5 files\n",
    "model_50 = tf.keras.models.load_model('resnet50_brain_tumor_model.h5')\n",
    "model_101 = tf.keras.models.load_model('resnet101_trained_model.h5')\n"
   ]
  },
  {
   "cell_type": "code",
   "execution_count": null,
   "metadata": {},
   "outputs": [
    {
     "ename": "AttributeError",
     "evalue": "'Sequential' object has no attribute 'history'",
     "output_type": "error",
     "traceback": [
      "\u001b[0;31m---------------------------------------------------------------------------\u001b[0m",
      "\u001b[0;31mAttributeError\u001b[0m                            Traceback (most recent call last)",
      "Cell \u001b[0;32mIn[3], line 3\u001b[0m\n\u001b[1;32m      1\u001b[0m \u001b[38;5;66;03m# If histories were saved during training, load them as well\u001b[39;00m\n\u001b[1;32m      2\u001b[0m \u001b[38;5;66;03m# If not saved, you can retrain the models, but this assumes you have history objects\u001b[39;00m\n\u001b[0;32m----> 3\u001b[0m history_50 \u001b[38;5;241m=\u001b[39m \u001b[43mmodel_50\u001b[49m\u001b[38;5;241;43m.\u001b[39;49m\u001b[43mhistory\u001b[49m\n\u001b[1;32m      4\u001b[0m history_101 \u001b[38;5;241m=\u001b[39m model_101\u001b[38;5;241m.\u001b[39mhistory\n",
      "\u001b[0;31mAttributeError\u001b[0m: 'Sequential' object has no attribute 'history'"
     ]
    }
   ],
   "source": [
    "# If histories were saved during training, load them as well\n",
    "# If not saved, you can retrain the models, but this assumes you have history objects\n",
    "# history_50 = model_50.history\n",
    "history_101 = model_101.history\n"
   ]
  },
  {
   "cell_type": "code",
   "execution_count": null,
   "metadata": {},
   "outputs": [],
   "source": []
  }
 ],
 "metadata": {
  "kernelspec": {
   "display_name": "btp",
   "language": "python",
   "name": "python3"
  },
  "language_info": {
   "codemirror_mode": {
    "name": "ipython",
    "version": 3
   },
   "file_extension": ".py",
   "mimetype": "text/x-python",
   "name": "python",
   "nbconvert_exporter": "python",
   "pygments_lexer": "ipython3",
   "version": "3.12.7"
  }
 },
 "nbformat": 4,
 "nbformat_minor": 2
}
